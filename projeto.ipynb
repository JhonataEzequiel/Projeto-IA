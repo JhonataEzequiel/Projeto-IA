{
  "cells": [
    {
      "cell_type": "markdown",
      "metadata": {
        "id": "uYDHSrAPokEA"
      },
      "source": [
        "Steam é uma loja virtual de jogos eletrônicos que pertence a Valve, sendo a maior e mais famosa de todas para computador. Essa base de dados em questão junta diversos jogos e seus atributos, além de algumas informações retiradas do site SteamSpy, site esse que guarda diversos dados sobre os jogos, e aonde usuários tem mais maneiras disponíveis de avalia-los.\n",
        "\n",
        "Explicação das colunas:\n",
        "\n",
        "appid = ID dos jogos;\n",
        "\n",
        "release_date = data de lançaento;\n",
        "\n",
        "english = se o jogo estiver disponível em inglês, o valor será 1, caso contrário será 0;\n",
        "\n",
        "developer = empresa responsável por desenvolver o jogo;\n",
        "\n",
        "publisher = empresa responsável por publicar o jogo;\n",
        "\n",
        "platforms = plataformas em que o jogo está disponível (windows, mac, etc);\n",
        "\n",
        "required_age = idade recomendada para o consumo do produto, de acordo com a Pan European Game Information (PEGI) do Reino Unido, que é responsável pela classificação indicativa;\n",
        "\n",
        "categories = categorias do jogo (multijogador, jogador solo, etc);\n",
        "\n",
        "genres = gêneros principais do jogo;\n",
        "\n",
        "steamspy_tags = tags votadas por usuários do steamspy;\n",
        "\n",
        "achievements = quantidade de conquistas (desafios opicionais) que o jogo tem disponível;\n",
        "\n",
        "positive_ratings = avaliações positivas de acordo com o site steamspy;\n",
        "\n",
        "negative_ratings = avaliações negativas de acordo com o site steamspy;\n",
        "\n",
        "average_playtime = tempo médio jogado pelos usuários, de acordo com o site steamspy;\n",
        "\n",
        "median_playtime = tempo mediano de jogo, de acordo com o site steamspy;\n",
        "\n",
        "owners = número estimado de usuários que possuem o jogo, entre X ou Y (primeiro e segundo valor apresentados);\n",
        "\n",
        "price = preço atual do jogo em GBP (Great British Pound), que convertendo para o real hoje (dia 08/06/2022), cada moeda equivale a 6.12 reais;\n",
        "\n",
        "O objetivo do projeto é tentar encaixar um jogo da base (quando ela for dividia em treinamento e teste) em uma das categorias de aprovação do público que vão ser criadas por mim no decorrer do projeto, baseadas em porcentagem de aprovação."
      ]
    },
    {
      "cell_type": "code",
      "execution_count": null,
      "metadata": {
        "id": "3TSZao9OokED"
      },
      "outputs": [],
      "source": [
        "#bibliotecas e módulos padrão para basicamente tudo\n",
        "import pandas as pd\n",
        "import numpy as np\n",
        "import matplotlib.pyplot as plt\n",
        "import statistics\n",
        "from sklearn import preprocessing\n",
        "from sklearn.model_selection import train_test_split\n",
        "from sklearn.neighbors import KNeighborsClassifier\n",
        "from sklearn.metrics import accuracy_score, confusion_matrix, precision_score, classification_report\n",
        "#bibliotecas para codificação, sampling, e automação\n",
        "from sklearn.preprocessing import OneHotEncoder\n",
        "from imblearn.over_sampling import RandomOverSampler\n",
        "from autosklearn.classification import AutoSklearnClassifier\n",
        "from sklearn.model_selection import KFold\n",
        "from sklearn.tree import DecisionTreeClassifier\n",
        "from sklearn.model_selection import cross_val_score\n",
        "#bibliotecas para clusterização\n",
        "from sklearn.cluster import AgglomerativeClustering\n",
        "from sklearn.cluster import KMeans\n",
        "from sklearn.metrics import silhouette_score"
      ]
    },
    {
      "cell_type": "code",
      "execution_count": null,
      "metadata": {
        "id": "RXSsoOhFokEE"
      },
      "outputs": [],
      "source": [
        "#lendo a base\n",
        "base1 = pd.read_csv('steam.csv')"
      ]
    },
    {
      "cell_type": "markdown",
      "metadata": {
        "id": "p1wWOJLdokEF"
      },
      "source": [
        "Começando o pré-tratamento de dados:"
      ]
    },
    {
      "cell_type": "code",
      "execution_count": null,
      "metadata": {
        "id": "_2i8rVL3okEF"
      },
      "outputs": [],
      "source": [
        "#retirando algumas categorias que julguei desnecessárias\n",
        "#decidi retirar os gêneros por que quando fosse usar o One Hot Encoding iria ficar uma base muito poluída por diversas colunas, o que iria atrasar ainda mais a análise\n",
        "#Julguei também que o estúdio que desenvolveu os jogos seria mais relevante do que a publisher dele, então retirei a publisher\n",
        "base1 = base1.drop(columns=['appid', 'name', 'release_date', 'developer','publisher', 'platforms', 'genres', 'steamspy_tags'])"
      ]
    },
    {
      "cell_type": "code",
      "execution_count": null,
      "metadata": {
        "id": "anJXPW4pokEG"
      },
      "outputs": [],
      "source": [
        "#descobrindo a mediana da quantidade de donos estimados dos jogos e substituindo os valores da coluna 'owners' pela mediana\n",
        "\n",
        "donos = base1['owners']\n",
        "donos_mediana = []\n",
        "\n",
        "for i in donos:\n",
        "    #dividindo as strings em duas para cada elemento na coluna 'owners', que normalmente são representadas por uma string \"valor inicial - valor final\"\n",
        "    temp = i.split('-')\n",
        "\n",
        "    #agora transformando os elementos da string em inteiros usando list comprehension\n",
        "    new_temp = [int(elemento) for elemento in temp]\n",
        "\n",
        "    #invertendo a ordem dos elementos, para colocar o valor máximo estimado de donos antes do valor mínimo\n",
        "    invertido = new_temp[::-1]\n",
        "\n",
        "    #tirando a mediana dos dois valores e adicionando a uma nova lista\n",
        "    mediana = statistics.median(invertido)\n",
        "    donos_mediana.append(float(mediana))\n",
        "\n",
        "novo_df = pd.DataFrame(donos_mediana, columns = ['median_of_owners'])\n",
        "\n",
        "base1 = base1.drop(['owners'], axis = 1)\n",
        "base1 = base1.join(novo_df['median_of_owners'])\n"
      ]
    },
    {
      "cell_type": "code",
      "execution_count": null,
      "metadata": {
        "id": "jA-aWFYiokEH"
      },
      "outputs": [],
      "source": [
        "#transformando as categorias em números binários\n",
        "\n",
        "\"\"\"\n",
        "    Sabendo que a coluna \"categories\" serve para dizer qual o tipo de jogo em si, vou primeiro descobrir quantas categorias são possíveis\n",
        "\n",
        "    Depois vou transformar todas as categorias em apenas duas, single e multiplayer. Isso vai servir para simplificar a análise\n",
        "\"\"\"\n",
        "\n",
        "categorias = base1['categories']\n",
        "strings = []\n",
        "\n",
        "\"\"\"\n",
        "  Existem alguns casos em que um jogo pode ter múltiplas categorias, e nesses casos, elas são separadas por ';', então vou dividi-las através disso\n",
        "\"\"\"\n",
        "\n",
        "for elemento in categorias:\n",
        "    strings.append(elemento.split(';'))\n",
        "\n",
        "#a lista 'strings' é formada por listas de strings. A variável 'temp2' terá apenas strings, sem listas dentro\n",
        "temp2 = [elemento for elemento in strings]\n",
        "lista_temporaria = []\n",
        "\n",
        "for elemento in temp2:\n",
        "    lista_temporaria.extend(elemento)\n",
        "\n",
        "#eliminando elementos duplicados através da transformação para conjunto (set)\n",
        "temp3 = set(lista_temporaria)"
      ]
    },
    {
      "cell_type": "code",
      "execution_count": null,
      "metadata": {
        "id": "BLJvYpPfokEI",
        "colab": {
          "base_uri": "https://localhost:8080/"
        },
        "outputId": "cdb8cc88-5253-4502-94a6-abef464d5247"
      },
      "outputs": [
        {
          "output_type": "stream",
          "name": "stdout",
          "text": [
            "{'Steam Cloud', 'Local Co-op', 'Single-player', 'Local Multi-Player', 'Steam Achievements', 'Full controller support', 'Commentary available', 'Stats', 'Includes Source SDK', 'Steam Workshop', 'Co-op', 'Online Co-op', 'Steam Leaderboards', 'Mods (require HL2)', 'Captions available', 'Steam Turn Notifications', 'Mods', 'Includes level editor', 'Online Multi-Player', 'Partial Controller Support', 'SteamVR Collectibles', 'MMO', 'Cross-Platform Multiplayer', 'VR Support', 'Steam Trading Cards', 'In-App Purchases', 'Multi-player', 'Valve Anti-Cheat enabled', 'Shared/Split Screen'}\n"
          ]
        }
      ],
      "source": [
        "#para verificar quais as categorias possíveis para cada jogo\n",
        "print(temp3)"
      ]
    },
    {
      "cell_type": "markdown",
      "metadata": {
        "id": "5Q3q9zfpokEI"
      },
      "source": [
        "As categorias ficaram organizadas assim:\n",
        "\n",
        "Multiplayer (aqui vão se encaixar também as categorias: Co-op, Online Co-op, Online Multi-Player, Cross-Platform Multiplayer, Local Multi-Player, Local Co-op, Shared/Split Screen, e MMO);\n",
        "\n",
        "Singleplayer;\n",
        "\n",
        "Hibrid (caso o jogo tenha opção de ser jogado tanto multiplayer, quanto singleplayer)."
      ]
    },
    {
      "cell_type": "code",
      "execution_count": null,
      "metadata": {
        "id": "ifDKsu37okEK"
      },
      "outputs": [],
      "source": [
        "#criando uma lista contendo todas as categorias consideradas multi-player\n",
        "lista_mult = ['Multi-player', 'Co-op', 'Online Co-op', 'Online Multi-Player', 'Cross-Platform Multiplayer', 'Local Multi-Player', 'Local Co-op', 'Shared/Split Screen', 'MMO']\n",
        "\n",
        "\"\"\"\n",
        "    O loop a seguir vai verificar se um jogo é híbrido, single-player, ou multi-player, e adicionar a categoria certa de cada jogo na 'lista_nova_alterada'\n",
        "\"\"\"\n",
        "\n",
        "lista_alterada = temp2\n",
        "lista_nova_alterada = []\n",
        "\n",
        "for i in range(len(lista_alterada)):\n",
        "    for elemento_mult in lista_mult:\n",
        "        if 'Single-player' in lista_alterada[i] and elemento_mult in lista_alterada[i]:\n",
        "            lista_nova_alterada.append('Hibrid')\n",
        "            break\n",
        "        elif elemento_mult in lista_alterada[i]:\n",
        "            lista_nova_alterada.append('Multiplayer')\n",
        "            break\n",
        "        elif elemento_mult not in lista_alterada[i]:\n",
        "            lista_nova_alterada.append('Singleplayer')\n",
        "            break"
      ]
    },
    {
      "cell_type": "code",
      "execution_count": null,
      "metadata": {
        "id": "gyTJ5CthokEK"
      },
      "outputs": [],
      "source": [
        "#trocando a coluna antiga de categorias pela nova\n",
        "novo_categorias = pd.DataFrame(lista_nova_alterada, columns = ['categories'])\n",
        "\n",
        "base1 = base1.drop(columns=['categories'], axis=1)\n",
        "base1 = base1.join(novo_categorias['categories'])"
      ]
    },
    {
      "cell_type": "code",
      "execution_count": null,
      "metadata": {
        "id": "yKRJJulLokEL"
      },
      "outputs": [],
      "source": [
        "#usando o one hot encoder para transformar cada categoria em uma coluna diferente\n",
        "enc = OneHotEncoder(handle_unknown='ignore')\n",
        "enc_df = pd.DataFrame(enc.fit_transform(base1[['categories']]).toarray())\n",
        "base1 = base1.join(enc_df)\n",
        "base1 = base1.drop(columns=['categories'], axis=1)"
      ]
    },
    {
      "cell_type": "markdown",
      "metadata": {
        "id": "pKLYd8PqokEL"
      },
      "source": [
        "Juntando as colunas de positive_ratings e negative_ratings em uma só, que vai ser expressa por porcentagem. Além disso vou selecionar somente os jogos que tem mais avaliações (quantidade) do que 100 (esse número pode ser alterado)\n",
        "\n",
        "Exemplo:\n",
        "\n",
        "Se o jogo possui 70 votos positivos e 30 negativos, a nova coluna terá \"70\" como valor."
      ]
    },
    {
      "cell_type": "code",
      "execution_count": null,
      "metadata": {
        "id": "uOq5qpoaokEL"
      },
      "outputs": [],
      "source": [
        "pr = base1['positive_ratings']\n",
        "nr = base1['negative_ratings']\n",
        "ratings = pr+nr\n",
        "\n",
        "#Selecionando apenas as linhas acima de X avalianções, o valor pode ser alterado abaixo\n",
        "x = 100\n",
        "\n",
        "ratings = pd.DataFrame(ratings, columns=['ratings'])\n",
        "\n",
        "base1 = base1.join(ratings['ratings'])\n",
        "lista_av = []\n",
        "\n",
        "for i in range(len(base1)):\n",
        "    if base1['ratings'][i] < x: #altere esse número 100 se quiser diminuir ou aumentar a base\n",
        "        lista_av.append(i)\n",
        "\n",
        "base1 = base1.drop(lista_av)\n",
        "\n",
        "#criando a coluna de porcentagem\n",
        "\n",
        "pr = base1['positive_ratings']\n",
        "nr = base1['negative_ratings']\n",
        "ratings = pr+nr\n",
        "\n",
        "ratings = tuple(ratings)\n",
        "pr = tuple(pr)\n",
        "\n",
        "avaliacoes = []\n",
        "\n",
        "#tirando a porcentagem de 'aprovação' (votos positivos em relação aos negativos)\n",
        "for i in range(len(base1)):\n",
        "    resultado = pr[i] * 100 / ratings[i]\n",
        "    avaliacoes.append(resultado)\n",
        "\n",
        "base1 = base1.drop(columns=['positive_ratings', 'negative_ratings', 'ratings'], axis = 1)\n",
        "\n",
        "base1['ratings'] = avaliacoes\n",
        "\n",
        "base1 = base1.dropna()"
      ]
    },
    {
      "cell_type": "markdown",
      "metadata": {
        "id": "IEwfvoiPokEM"
      },
      "source": [
        "Vou assinalar as seguintes categorias para as avaliações, baseado no processo anterior:\n",
        "\n",
        "Horrível: ratings < 40%\n",
        "\n",
        "Ruim: 40% <= ratings < 55%\n",
        "\n",
        "Mediano: 55% <= ratings < 70%\n",
        "\n",
        "Bom: 70% <= ratings < 90%\n",
        "\n",
        "Ótimo: ratings >= 90%"
      ]
    },
    {
      "cell_type": "code",
      "execution_count": null,
      "metadata": {
        "id": "2Q16BrxMokEM"
      },
      "outputs": [],
      "source": [
        "#assinalando categorias diferentes para as avaliações\n",
        "base1.reset_index(drop=True, inplace=True)\n",
        "rt = base1['ratings']\n",
        "\n",
        "#basicamente os loops a seguir vão assinalar categorias diferentes para as avaliações, e essas categorias vão ser usadas como atributo alvo das IAs\n",
        "\n",
        "#transformando as avaliações em números floats e salvando numa lista\n",
        "float_ratings = []\n",
        "for i in range(len(base1)):\n",
        "  float_ratings.append(float(base1['ratings'][i]))\n",
        "\n",
        "rt_temp = []\n",
        "\n",
        "#assinalando cada categoria, de acordo com o que foi descrito acima, em uma nova lista de strings que será a nova coluna de ratings\n",
        "for i in range(len(base1)):\n",
        "    if float_ratings[i] < 40:\n",
        "        rt_temp.append(0)\n",
        "    elif float_ratings[i] >= 40 and float_ratings[i] < 55:\n",
        "        rt_temp.append(1)\n",
        "    elif float_ratings[i] >= 55 and float_ratings[i] < 70:\n",
        "        rt_temp.append(2)\n",
        "    elif float_ratings[i] >= 70 and float_ratings[i] < 90:\n",
        "        rt_temp.append(3)\n",
        "    elif float_ratings[i] >= 90:\n",
        "        rt_temp.append(4)\n",
        "\n",
        "base1 = base1.drop(columns=['ratings'], axis=1)\n",
        "base1['ratings'] = rt_temp"
      ]
    },
    {
      "cell_type": "code",
      "execution_count": null,
      "metadata": {
        "id": "5JBHHBGxokEO"
      },
      "outputs": [],
      "source": [
        "#dividindo a base em teste e treinamento\n",
        "X = base1.drop('ratings', axis = 1)\n",
        "y = base1['ratings']\n",
        "\n",
        "X_train, X_test, y_train, y_test = train_test_split(X, y, test_size = 0.3)"
      ]
    },
    {
      "cell_type": "markdown",
      "source": [
        "Início dos testes com diferentes métodos:"
      ],
      "metadata": {
        "id": "0cVghPpNboyu"
      }
    },
    {
      "cell_type": "markdown",
      "source": [
        "KNN com 5, 10, e 15 vizinhos:"
      ],
      "metadata": {
        "id": "-gBV7NfGcP12"
      }
    },
    {
      "cell_type": "code",
      "source": [
        "#5 vizinhos\n",
        "knn5 = KNeighborsClassifier(p=2, n_neighbors=5, weights = 'distance', algorithm = 'auto')\n",
        "knn5.fit(X_train, y_train)\n",
        "predic = knn5.predict(X_test)\n",
        "\n",
        "#precisão\n",
        "print(f\"Resultado: {accuracy_score(y_test, predic)}\")"
      ],
      "metadata": {
        "colab": {
          "base_uri": "https://localhost:8080/"
        },
        "id": "ZMOpyrqycUwo",
        "outputId": "e2c1f9a5-1116-4ce5-e66b-d521b46a23ac"
      },
      "execution_count": null,
      "outputs": [
        {
          "output_type": "stream",
          "name": "stdout",
          "text": [
            "Resultado: 0.3910232027386839\n"
          ]
        }
      ]
    },
    {
      "cell_type": "code",
      "source": [
        "#10 vizinhos\n",
        "knn10 = KNeighborsClassifier(p=2, n_neighbors=10, weights = 'distance', algorithm = 'auto')\n",
        "knn10.fit(X_train, y_train)\n",
        "predic = knn10.predict(X_test)\n",
        "\n",
        "#precisão\n",
        "print(f\"Resultado: {accuracy_score(y_test, predic)}\")"
      ],
      "metadata": {
        "colab": {
          "base_uri": "https://localhost:8080/"
        },
        "id": "wSGElQHMcxfo",
        "outputId": "5a464331-0d0b-4d8b-c245-3f525af1d650"
      },
      "execution_count": null,
      "outputs": [
        {
          "output_type": "stream",
          "name": "stdout",
          "text": [
            "Resultado: 0.4206922784328642\n"
          ]
        }
      ]
    },
    {
      "cell_type": "code",
      "source": [
        "#15 vizinhos\n",
        "knn15 = KNeighborsClassifier(p=2, n_neighbors=15, weights = 'distance', algorithm = 'auto')\n",
        "knn15.fit(X_train, y_train)\n",
        "predic = knn15.predict(X_test)\n",
        "\n",
        "#precisão\n",
        "print(f\"Resultado: {accuracy_score(y_test, predic)}\")"
      ],
      "metadata": {
        "colab": {
          "base_uri": "https://localhost:8080/"
        },
        "id": "iFZ_415Qcx6P",
        "outputId": "acd11a6c-8075-4883-ffe9-9edae3790e5d"
      },
      "execution_count": null,
      "outputs": [
        {
          "output_type": "stream",
          "name": "stdout",
          "text": [
            "Resultado: 0.4359071890452644\n"
          ]
        }
      ]
    },
    {
      "cell_type": "markdown",
      "source": [
        "Testando validação cruzada com 5 e 10 folds:"
      ],
      "metadata": {
        "id": "5K77xXICdAlO"
      }
    },
    {
      "cell_type": "code",
      "source": [
        "#5 folds\n",
        "modelo5=DecisionTreeClassifier() \n",
        "kfold_validation=KFold(5)\n",
        "\n",
        "results=cross_val_score(modelo5,X,y,cv=kfold_validation)\n",
        "print(f\"Resultado de cada fold individual: {results}\")\n",
        "print(f\"\\nMedia dos resultados: {np.mean(results)}\")"
      ],
      "metadata": {
        "colab": {
          "base_uri": "https://localhost:8080/"
        },
        "id": "HkSkeBVtdSYm",
        "outputId": "3965476c-aac4-4745-d5f7-818d9f4506c4"
      },
      "execution_count": null,
      "outputs": [
        {
          "output_type": "stream",
          "name": "stdout",
          "text": [
            "Resultado de cada fold individual: [0.3479749  0.35710211 0.36130137 0.32762557 0.33047945]\n",
            "\n",
            "Media dos resultados: 0.34489668070652524\n"
          ]
        }
      ]
    },
    {
      "cell_type": "code",
      "source": [
        "#10 folds\n",
        "modelo10=DecisionTreeClassifier() \n",
        "kfold_validation=KFold(10)\n",
        "\n",
        "results=cross_val_score(modelo10,X,y,cv=kfold_validation)\n",
        "print(f\"Resultado de cada fold individual: {results}\")\n",
        "print(f\"\\nMedia dos resultados: {np.mean(results)}\")"
      ],
      "metadata": {
        "colab": {
          "base_uri": "https://localhost:8080/"
        },
        "id": "hxIR7WgLdutA",
        "outputId": "a8f3ec2e-bb07-4cf1-cdb3-53f9955dd690"
      },
      "execution_count": null,
      "outputs": [
        {
          "output_type": "stream",
          "name": "stdout",
          "text": [
            "Resultado de cada fold individual: [0.36374002 0.3386545  0.33219178 0.36872146 0.37671233 0.35958904\n",
            " 0.35045662 0.35844749 0.35045662 0.35273973]\n",
            "\n",
            "Media dos resultados: 0.3551709595289046\n"
          ]
        }
      ]
    },
    {
      "cell_type": "markdown",
      "source": [
        "Automl com modelo holdout padrão:"
      ],
      "metadata": {
        "id": "DKhz7rSLe47R"
      }
    },
    {
      "cell_type": "code",
      "source": [
        "base1['ratings'].value_counts()"
      ],
      "metadata": {
        "colab": {
          "base_uri": "https://localhost:8080/"
        },
        "id": "A-ElPv9pnP9U",
        "outputId": "6cf11f8a-676c-427b-c720-725d25b03e8f"
      },
      "execution_count": null,
      "outputs": [
        {
          "output_type": "execute_result",
          "data": {
            "text/plain": [
              "3    4274\n",
              "4    1867\n",
              "2    1548\n",
              "1     727\n",
              "0     346\n",
              "Name: ratings, dtype: int64"
            ]
          },
          "metadata": {},
          "execution_count": 21
        }
      ]
    },
    {
      "cell_type": "code",
      "execution_count": null,
      "metadata": {
        "id": "lT75lRwYokEO",
        "colab": {
          "base_uri": "https://localhost:8080/"
        },
        "outputId": "439b992d-226e-48ff-b941-7eac0c4cb68d"
      },
      "outputs": [
        {
          "output_type": "execute_result",
          "data": {
            "text/plain": [
              "AutoSklearnClassifier(n_jobs=-1, per_run_time_limit=30,\n",
              "                      time_left_for_this_task=180)"
            ]
          },
          "metadata": {},
          "execution_count": 22
        }
      ],
      "source": [
        "#testando automl (2 minutos rodando, com 30 segundos de tempo limite para cada algorítimo)\n",
        "automl = AutoSklearnClassifier(time_left_for_this_task=2*60, per_run_time_limit=30, n_jobs=-1)\n",
        "\n",
        "#inicia a busca\n",
        "automl.fit(X_train, y_train)"
      ]
    },
    {
      "cell_type": "code",
      "source": [
        "#mostrando as estatísticas do processo\n",
        "print(automl.sprint_statistics())\n",
        "\n",
        "#testando o melhor modelo\n",
        "dados = automl.predict(X_test)\n",
        "acc = accuracy_score(y_test, dados)\n",
        "\n",
        "print(\"Acuracia: %.3f\" % acc)\n",
        "print(automl.leaderboard())"
      ],
      "metadata": {
        "id": "1C95OUBNQdak",
        "colab": {
          "base_uri": "https://localhost:8080/"
        },
        "outputId": "fa95bab7-93be-4782-d6a4-a2efdb6668de"
      },
      "execution_count": null,
      "outputs": [
        {
          "output_type": "stream",
          "name": "stdout",
          "text": [
            "auto-sklearn results:\n",
            "  Dataset name: 0521fca6-f15e-11ec-81b7-0242ac1c0002\n",
            "  Metric: accuracy\n",
            "  Best validation score: 0.492589\n",
            "  Number of target algorithm runs: 20\n",
            "  Number of successful target algorithm runs: 14\n",
            "  Number of crashed target algorithm runs: 0\n",
            "  Number of target algorithms that exceeded the time limit: 6\n",
            "  Number of target algorithms that exceeded the memory limit: 0\n",
            "\n",
            "Acuracia: 0.485\n",
            "          rank  ensemble_weight               type      cost   duration\n",
            "model_id                                                               \n",
            "12           1             0.28  gradient_boosting  0.507411   3.740519\n",
            "3            2             0.12  gradient_boosting  0.510870   5.012051\n",
            "17           3             0.04      random_forest  0.557806  14.744534\n",
            "9            4             0.04      random_forest  0.567194  28.293924\n",
            "10           5             0.02      random_forest  0.567194  10.213857\n",
            "14           6             0.04      random_forest  0.642787   8.011072\n",
            "19           7             0.46      liblinear_svc  0.848814   2.814986\n"
          ]
        }
      ]
    },
    {
      "cell_type": "code",
      "source": [
        "#matriz de confusão do automl\n",
        "cm_automl = confusion_matrix(y_test, dados)\n",
        "\n",
        "#criando a figura com o matplotlib\n",
        "fig, px = plt.subplots(figsize=(7.5, 7.5))\n",
        "px.matshow(cm_automl, cmap=plt.cm.YlOrRd, alpha=0.5)\n",
        "for m in range(cm_automl.shape[0]):\n",
        "    for n in range(cm_automl.shape[1]):\n",
        "        px.text(x=m,y=n,s=cm_automl[m, n], va='center', ha='center', size='xx-large')\n",
        "\n",
        "#Nomeando as Labels\n",
        "plt.xlabel('Predições', fontsize=16)\n",
        "plt.ylabel('Verdadeiros', fontsize=16)\n",
        "plt.title('Matriz de Confusão', fontsize=16)\n",
        "plt.show()"
      ],
      "metadata": {
        "id": "D1qZp4lIfOzX",
        "colab": {
          "base_uri": "https://localhost:8080/",
          "height": 496
        },
        "outputId": "8bbcaade-d49d-4551-87db-4e1d73f04bfd"
      },
      "execution_count": null,
      "outputs": [
        {
          "output_type": "display_data",
          "data": {
            "text/plain": [
              "<Figure size 540x540 with 1 Axes>"
            ],
            "image/png": "[encoded data removed]"
          },
          "metadata": {
            "needs_background": "light"
          }
        }
      ]
    },
    {
      "cell_type": "markdown",
      "source": [
        "Agora os métodos de Clusterização, começando pelo KMeans:"
      ],
      "metadata": {
        "id": "lSPRd54SfHpf"
      }
    },
    {
      "cell_type": "code",
      "source": [
        "#Dropando a Coluna de ratings\n",
        "base_sr = base1.drop(columns=['ratings'], axis = 1)"
      ],
      "metadata": {
        "id": "5Wia9TUGtWVo"
      },
      "execution_count": null,
      "outputs": []
    },
    {
      "cell_type": "code",
      "source": [
        "#KMeans com 5 clusters\n",
        "\n",
        "kmeans1 = KMeans(n_clusters=5)\n",
        "predic = kmeans1.fit_predict(base_sr)\n",
        "print(\"Analisando kmeans com 5 clusters:\")\n",
        "pontuacao = silhouette_score(base_sr, kmeans1.labels_, metric = 'euclidean')\n",
        "print(f\"Silhouette Score com 5 clusters: {pontuacao}\")"
      ],
      "metadata": {
        "id": "PSOgdfZrtEdg",
        "colab": {
          "base_uri": "https://localhost:8080/"
        },
        "outputId": "d17fa5de-e5d3-4959-ef91-573294451438"
      },
      "execution_count": null,
      "outputs": [
        {
          "output_type": "stream",
          "name": "stdout",
          "text": [
            "Analisando kmeans com 5 clusters:\n",
            "Silhouette Score com 5 clusters: 0.9251716906101318\n"
          ]
        }
      ]
    },
    {
      "cell_type": "markdown",
      "source": [
        "Agora indo para o Hierárquico:"
      ],
      "metadata": {
        "id": "SuOhiqCi2Wnb"
      }
    },
    {
      "cell_type": "code",
      "source": [
        "agg_clustering1 = AgglomerativeClustering(n_clusters = 3, affinity = 'euclidean', linkage = 'average')\n",
        "predic1 = agg_clustering1.fit_predict(base_sr)\n",
        "\n",
        "print(\"Analisando hierarquico average com 3 clusters:\")\n",
        "pontuacao = silhouette_score(base_sr, agg_clustering1.labels_, metric = 'euclidean')\n",
        "print(f\"Silhouette Score com 3 clusters: {pontuacao}\" )"
      ],
      "metadata": {
        "id": "c3oYLZgw2PQC",
        "colab": {
          "base_uri": "https://localhost:8080/"
        },
        "outputId": "1e9366ac-f2b5-4193-bc13-c67b5c70617b"
      },
      "execution_count": null,
      "outputs": [
        {
          "output_type": "stream",
          "name": "stdout",
          "text": [
            "Analisando hierarquico average com 3 clusters:\n",
            "Silhouette Score com 3 clusters: 0.9921611527774015\n"
          ]
        }
      ]
    }
  ],
  "metadata": {
    "interpreter": {
      "hash": "6f1c588a7bfc2045244c4bd5cfad34a1a02a0f5355fb5df5ca287bb29ecd5eed"
    },
    "kernelspec": {
      "display_name": "Python 3.10.4 64-bit",
      "language": "python",
      "name": "python3"
    },
    "language_info": {
      "codemirror_mode": {
        "name": "ipython",
        "version": 3
      },
      "file_extension": ".py",
      "mimetype": "text/x-python",
      "name": "python",
      "nbconvert_exporter": "python",
      "pygments_lexer": "ipython3",
      "version": "3.10.4"
    },
    "orig_nbformat": 4,
    "colab": {
      "name": "projeto.ipynb",
      "provenance": [],
      "collapsed_sections": []
    },
    "accelerator": "GPU"
  },
  "nbformat": 4,
  "nbformat_minor": 0
}